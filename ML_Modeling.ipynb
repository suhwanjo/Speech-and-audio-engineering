{
 "cells": [
  {
   "cell_type": "code",
   "execution_count": 1,
   "id": "36db7e28",
   "metadata": {},
   "outputs": [],
   "source": [
    "# Usual Libraries\n",
    "import pandas as pd\n",
    "import csv\n",
    "import numpy as np\n",
    "import seaborn as sns\n",
    "import matplotlib.pyplot as plt\n",
    "%matplotlib inline\n",
    "import sklearn\n",
    "import os\n",
    "# Librosa (the mother of audio files)\n",
    "import librosa\n",
    "import librosa.display\n",
    "import IPython.display as ipd\n",
    "import warnings\n",
    "warnings.filterwarnings('ignore')\n",
    "\n",
    "from sklearn.naive_bayes import GaussianNB\n",
    "from sklearn.linear_model import SGDClassifier, LogisticRegression\n",
    "from sklearn.neighbors import KNeighborsClassifier\n",
    "from sklearn.tree import DecisionTreeClassifier\n",
    "from sklearn.ensemble import RandomForestClassifier\n",
    "from sklearn.svm import SVC\n",
    "from sklearn.neural_network import MLPClassifier\n",
    "from xgboost import XGBClassifier, XGBRFClassifier\n",
    "from xgboost import plot_tree, plot_importance\n",
    "\n",
    "from sklearn.metrics import confusion_matrix, accuracy_score, roc_auc_score, roc_curve\n",
    "from sklearn import preprocessing\n",
    "from sklearn.model_selection import train_test_split\n",
    "from sklearn.feature_selection import RFE\n",
    "from sklearn.preprocessing import LabelEncoder\n",
    "from sklearn.utils import shuffle"
   ]
  },
  {
   "cell_type": "markdown",
   "id": "4dba99a4",
   "metadata": {},
   "source": [
    "# Modeling"
   ]
  },
  {
   "cell_type": "code",
   "execution_count": 2,
   "id": "be53f704",
   "metadata": {},
   "outputs": [],
   "source": [
    "song_data=pd.read_csv('song_data.csv',index_col=0)"
   ]
  },
  {
   "cell_type": "code",
   "execution_count": 3,
   "id": "d02a5ccf",
   "metadata": {},
   "outputs": [],
   "source": [
    "song_classic=song_data[song_data['gnr_code']=='클래식'].sample(3000)\n",
    "song_rap=song_data[song_data['gnr_code']=='랩/힙합'].sample(4000)\n",
    "song_ballade=song_data[song_data['gnr_code']=='발라드']\n",
    "song_rock=song_data[song_data['gnr_code']=='록/메탈']"
   ]
  },
  {
   "cell_type": "code",
   "execution_count": 4,
   "id": "07ad40e9",
   "metadata": {},
   "outputs": [],
   "source": [
    "song_data=pd.concat([song_classic,song_rap,song_ballade,song_rock])"
   ]
  },
  {
   "cell_type": "code",
   "execution_count": 5,
   "id": "86bc108f",
   "metadata": {},
   "outputs": [],
   "source": [
    "genre_list = song_data['gnr_code']\n",
    "encoder = LabelEncoder()\n",
    "y = encoder.fit_transform(genre_list)"
   ]
  },
  {
   "cell_type": "code",
   "execution_count": 6,
   "id": "2440abae",
   "metadata": {},
   "outputs": [
    {
     "data": {
      "text/plain": [
       "array([3, 3, 3, ..., 1, 1, 1])"
      ]
     },
     "execution_count": 6,
     "metadata": {},
     "output_type": "execute_result"
    }
   ],
   "source": [
    "y"
   ]
  },
  {
   "cell_type": "code",
   "execution_count": 7,
   "id": "f71016e6",
   "metadata": {},
   "outputs": [
    {
     "data": {
      "text/plain": [
       "array(['랩/힙합', '록/메탈', '발라드', '클래식'], dtype=object)"
      ]
     },
     "execution_count": 7,
     "metadata": {},
     "output_type": "execute_result"
    }
   ],
   "source": [
    "encoder.classes_"
   ]
  },
  {
   "cell_type": "code",
   "execution_count": 8,
   "id": "62e82c28",
   "metadata": {},
   "outputs": [],
   "source": [
    "X=song_data.iloc[:, 1:]"
   ]
  },
  {
   "cell_type": "markdown",
   "id": "c2e126c2",
   "metadata": {},
   "source": [
    "# Normalization"
   ]
  },
  {
   "cell_type": "code",
   "execution_count": 9,
   "id": "daeec764",
   "metadata": {},
   "outputs": [],
   "source": [
    "cols = X.columns\n",
    "min_max_scaler = preprocessing.MinMaxScaler() # 정규화\n",
    "np_scaled = min_max_scaler.fit_transform(X)"
   ]
  },
  {
   "cell_type": "code",
   "execution_count": 10,
   "id": "f9b25c83",
   "metadata": {},
   "outputs": [],
   "source": [
    "X = pd.DataFrame(np_scaled, columns = cols)"
   ]
  },
  {
   "cell_type": "code",
   "execution_count": 11,
   "id": "a7891529",
   "metadata": {},
   "outputs": [],
   "source": [
    "X,y = shuffle(X,y, random_state=2)"
   ]
  },
  {
   "cell_type": "markdown",
   "id": "d2c8fea9",
   "metadata": {},
   "source": [
    "# Train, Test set Split"
   ]
  },
  {
   "cell_type": "code",
   "execution_count": 12,
   "id": "9b01b68d",
   "metadata": {},
   "outputs": [],
   "source": [
    "X_train, X_test, y_train, y_test = train_test_split(X, y, test_size=0.2)"
   ]
  },
  {
   "cell_type": "code",
   "execution_count": 13,
   "id": "a96ff795",
   "metadata": {},
   "outputs": [
    {
     "data": {
      "text/plain": [
       "15979"
      ]
     },
     "execution_count": 13,
     "metadata": {},
     "output_type": "execute_result"
    }
   ],
   "source": [
    "len(y_train)"
   ]
  },
  {
   "cell_type": "code",
   "execution_count": 14,
   "id": "b48068d1",
   "metadata": {},
   "outputs": [
    {
     "data": {
      "text/plain": [
       "3995"
      ]
     },
     "execution_count": 14,
     "metadata": {},
     "output_type": "execute_result"
    }
   ],
   "source": [
    "len(y_test)"
   ]
  },
  {
   "cell_type": "markdown",
   "id": "1538d18b",
   "metadata": {},
   "source": [
    "# Model Selection"
   ]
  },
  {
   "cell_type": "code",
   "execution_count": 15,
   "id": "f7349851",
   "metadata": {},
   "outputs": [],
   "source": [
    "def model_assess(model, title = \"Default\"):\n",
    "    model.fit(X_train, y_train)\n",
    "    preds = model.predict(X_test)\n",
    "    #print(confusion_matrix(y_test, preds))\n",
    "    print('Accuracy', title, ':', round(accuracy_score(y_test, preds), 5), '\\n')"
   ]
  },
  {
   "cell_type": "code",
   "execution_count": 16,
   "id": "9eae180d",
   "metadata": {},
   "outputs": [
    {
     "name": "stdout",
     "output_type": "stream",
     "text": [
      "Accuracy Naive Bayes : 0.61391 \n",
      "\n",
      "Accuracy Stochastic Gradient Descent : 0.74962 \n",
      "\n",
      "Accuracy KNN : 0.75284 \n",
      "\n",
      "Accuracy Decission trees : 0.67873 \n",
      "\n",
      "Accuracy Random Forest : 0.75455 \n",
      "\n",
      "Accuracy Support Vector Machine : 0.77009 \n",
      "\n",
      "Accuracy Logistic Regression : 0.77047 \n",
      "\n",
      "Accuracy Neural Nets : 0.7682 \n",
      "\n",
      "Accuracy Cross Gradient Booster : 0.80724 \n",
      "\n",
      "Accuracy Cross Gradient Booster (Random Forest) : 0.75701 \n",
      "\n"
     ]
    }
   ],
   "source": [
    "# Naive Bayes\n",
    "nb = GaussianNB()\n",
    "model_assess(nb, \"Naive Bayes\")\n",
    "\n",
    "# Stochastic Gradient Descent\n",
    "sgd = SGDClassifier(max_iter=5000, random_state=0)\n",
    "model_assess(sgd, \"Stochastic Gradient Descent\")\n",
    "\n",
    "# KNN\n",
    "knn = KNeighborsClassifier(n_neighbors=19)\n",
    "model_assess(knn, \"KNN\")\n",
    "\n",
    "# Decission trees\n",
    "tree = DecisionTreeClassifier()\n",
    "model_assess(tree, \"Decission trees\")\n",
    "\n",
    "# Random Forest\n",
    "rforest = RandomForestClassifier(n_estimators=1000, max_depth=10, random_state=0)\n",
    "model_assess(rforest, \"Random Forest\")\n",
    "\n",
    "# Support Vector Machine\n",
    "svm = SVC(decision_function_shape=\"ovo\")\n",
    "model_assess(svm, \"Support Vector Machine\")\n",
    "\n",
    "# Logistic Regression\n",
    "lg = LogisticRegression(random_state=0, solver='lbfgs', multi_class='multinomial')\n",
    "model_assess(lg, \"Logistic Regression\")\n",
    "\n",
    "# Neural Nets\n",
    "nn = MLPClassifier(solver='lbfgs', alpha=1e-5, hidden_layer_sizes=(5000, 10), random_state=1)\n",
    "model_assess(nn, \"Neural Nets\")\n",
    "\n",
    "# Cross Gradient Booster\n",
    "xgb = XGBClassifier(n_estimators=1000, learning_rate=0.05)\n",
    "model_assess(xgb, \"Cross Gradient Booster\")\n",
    "\n",
    "# Cross Gradient Booster (Random Forest)\n",
    "xgbrf = XGBRFClassifier(objective= 'multi:softmax')\n",
    "model_assess(xgbrf, \"Cross Gradient Booster (Random Forest)\")"
   ]
  },
  {
   "cell_type": "code",
   "execution_count": 15,
   "id": "7add7710",
   "metadata": {},
   "outputs": [
    {
     "name": "stdout",
     "output_type": "stream",
     "text": [
      "Accuracy : 0.78498 \n",
      "\n"
     ]
    },
    {
     "data": {
      "image/png": "[encoded data removed]",
      "text/plain": [
       "<Figure size 1600x900 with 2 Axes>"
      ]
     },
     "metadata": {},
     "output_type": "display_data"
    }
   ],
   "source": [
    "# Final model\n",
    "xgb = XGBClassifier(n_estimators=2000, learning_rate=0.01)\n",
    "xgb.fit(X_train, y_train)\n",
    "\n",
    "preds = xgb.predict(X_test)\n",
    "\n",
    "print('Accuracy', ':', round(accuracy_score(y_test, preds), 5), '\\n')\n",
    "\n",
    "# Confusion Matrix\n",
    "confusion_matr = confusion_matrix(y_test, preds) #normalize = 'true'\n",
    "plt.figure(figsize = (16, 9))\n",
    "sns.heatmap(confusion_matr, cmap=\"Blues\", annot=True, \n",
    "            xticklabels = ['랩/힙합', '록/메탈', '발라드', '클래식'],\n",
    "           yticklabels=['랩/힙합', '록/메탈', '발라드', '클래식']);\n",
    "plt.savefig(\"conf matrix\")"
   ]
  },
  {
   "cell_type": "code",
   "execution_count": 25,
   "id": "229a8f3a",
   "metadata": {},
   "outputs": [],
   "source": [
    "for songname in os.listdir('song'):\n",
    "    y,sr=librosa.load(f'song/{songname}',sr=16000)\n",
    "    mel = librosa.feature.melspectrogram(y=y,sr=sr,win_length=512,hop_length=256,n_mels=48)\n",
    "    mel_db=librosa.power_to_db(mel,ref=np.max)\n",
    "    header=''\n",
    "    for i in range(1, 49):\n",
    "        header += f' mel_mean{i}' \n",
    "        header += f' mel_var{i}'\n",
    "    header = header.split()\n",
    "    to_append=''\n",
    "\n",
    "    file = open(f'{songname}.csv', 'w', newline='')\n",
    "    with file:\n",
    "        writer = csv.writer(file)\n",
    "        writer.writerow(header)\n",
    "    for e in mel_db:\n",
    "        to_append += f' {np.mean(e)}'\n",
    "        to_append += f' {np.var(e)}'\n",
    "    file = open(f'{songname}.csv', 'a', newline='')\n",
    "    with file:\n",
    "        writer = csv.writer(file)\n",
    "        writer.writerow(to_append.split())"
   ]
  },
  {
   "cell_type": "code",
   "execution_count": 27,
   "id": "804548ba",
   "metadata": {},
   "outputs": [
    {
     "name": "stdout",
     "output_type": "stream",
     "text": [
      "Hello.wav은 '[3]'입니다.\n",
      "가시.wav은 '[3]'입니다.\n",
      "나의사춘기에게-볼빤간.wav은 '[3]'입니다.\n",
      "내사랑내곁에 - 김현식.wav은 '[3]'입니다.\n",
      "너를사랑해-한동준.wav은 '[3]'입니다.\n",
      "너무아픈사랑-박새별.wav은 '[3]'입니다.\n",
      "너의 모든 순간.wav은 '[3]'입니다.\n",
      "다시-오현란 30.wav은 '[3]'입니다.\n",
      "밤편지-아이우.wav은 '[3]'입니다.\n",
      "사랑했지만-김광석.wav은 '[3]'입니다.\n",
      "투비-루다.wav은 '[3]'입니다.\n"
     ]
    }
   ],
   "source": [
    "for song in os.listdir('song'):\n",
    "    data=pd.read_csv(f'{song}.csv')\n",
    "    pred = xgb.predict(np.array(data))\n",
    "    print(f\"{song}은 '{pred}'입니다.\")"
   ]
  },
  {
   "cell_type": "code",
   "execution_count": null,
   "id": "e8e9c52a",
   "metadata": {},
   "outputs": [],
   "source": []
  }
 ],
 "metadata": {
  "kernelspec": {
   "display_name": "Python 3 (ipykernel)",
   "language": "python",
   "name": "python3"
  },
  "language_info": {
   "codemirror_mode": {
    "name": "ipython",
    "version": 3
   },
   "file_extension": ".py",
   "mimetype": "text/x-python",
   "name": "python",
   "nbconvert_exporter": "python",
   "pygments_lexer": "ipython3",
   "version": "3.9.12"
  }
 },
 "nbformat": 4,
 "nbformat_minor": 5
}
